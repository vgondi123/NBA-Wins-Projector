{
 "cells": [
  {
   "cell_type": "code",
   "execution_count": 1,
   "id": "adc923d9-7ef0-458e-9bf6-8b65620d1b34",
   "metadata": {},
   "outputs": [],
   "source": [
    "import pandas as pd\n",
    "from bs4 import BeautifulSoup\n",
    "from sklearn import preprocessing\n",
    "from sklearn.model_selection import train_test_split\n",
    "from sklearn.neighbors import KNeighborsRegressor\n",
    "from sklearn import preprocessing\n",
    "from sklearn.model_selection import train_test_split\n",
    "import matplotlib.pyplot as plt\n",
    "import seaborn as sns\n",
    "import numpy as np\n",
    "from sklearn.linear_model import LinearRegression\n",
    "from sklearn.metrics import mean_squared_error\n",
    "\n",
    "df = pd.read_csv(\"table2.csv\")"
   ]
  },
  {
   "cell_type": "code",
   "execution_count": 2,
   "id": "89f50763-038c-41bf-ad9f-d152a1af60fd",
   "metadata": {},
   "outputs": [
    {
     "data": {
      "text/html": [
       "<div>\n",
       "<style scoped>\n",
       "    .dataframe tbody tr th:only-of-type {\n",
       "        vertical-align: middle;\n",
       "    }\n",
       "\n",
       "    .dataframe tbody tr th {\n",
       "        vertical-align: top;\n",
       "    }\n",
       "\n",
       "    .dataframe thead th {\n",
       "        text-align: right;\n",
       "    }\n",
       "</style>\n",
       "<table border=\"1\" class=\"dataframe\">\n",
       "  <thead>\n",
       "    <tr style=\"text-align: right;\">\n",
       "      <th></th>\n",
       "      <th>Unnamed: 0</th>\n",
       "      <th>Year</th>\n",
       "      <th>Team</th>\n",
       "      <th>Age</th>\n",
       "      <th>GP</th>\n",
       "      <th>W</th>\n",
       "      <th>L</th>\n",
       "      <th>W/L%</th>\n",
       "      <th>Avg Exp</th>\n",
       "      <th>Coach Exp</th>\n",
       "      <th>Coach W/L%</th>\n",
       "      <th>Avg PER</th>\n",
       "      <th>Avg WS</th>\n",
       "      <th>Last Year W/L%</th>\n",
       "    </tr>\n",
       "  </thead>\n",
       "  <tbody>\n",
       "    <tr>\n",
       "      <th>0</th>\n",
       "      <td>12</td>\n",
       "      <td>2013</td>\n",
       "      <td>Atlanta Hawks</td>\n",
       "      <td>27.1</td>\n",
       "      <td>82.0</td>\n",
       "      <td>44</td>\n",
       "      <td>38.0</td>\n",
       "      <td>0.537</td>\n",
       "      <td>5.333</td>\n",
       "      <td>2</td>\n",
       "      <td>0.572</td>\n",
       "      <td>13.123</td>\n",
       "      <td>2.564</td>\n",
       "      <td>0.606</td>\n",
       "    </tr>\n",
       "    <tr>\n",
       "      <th>1</th>\n",
       "      <td>16</td>\n",
       "      <td>2014</td>\n",
       "      <td>Atlanta Hawks</td>\n",
       "      <td>27.5</td>\n",
       "      <td>82.0</td>\n",
       "      <td>38</td>\n",
       "      <td>44.0</td>\n",
       "      <td>0.463</td>\n",
       "      <td>3.778</td>\n",
       "      <td>0</td>\n",
       "      <td>0.000</td>\n",
       "      <td>13.897</td>\n",
       "      <td>2.870</td>\n",
       "      <td>0.537</td>\n",
       "    </tr>\n",
       "    <tr>\n",
       "      <th>2</th>\n",
       "      <td>3</td>\n",
       "      <td>2015</td>\n",
       "      <td>Atlanta Hawks</td>\n",
       "      <td>27.8</td>\n",
       "      <td>82.0</td>\n",
       "      <td>60</td>\n",
       "      <td>22.0</td>\n",
       "      <td>0.732</td>\n",
       "      <td>4.750</td>\n",
       "      <td>1</td>\n",
       "      <td>0.463</td>\n",
       "      <td>13.019</td>\n",
       "      <td>2.656</td>\n",
       "      <td>0.463</td>\n",
       "    </tr>\n",
       "    <tr>\n",
       "      <th>3</th>\n",
       "      <td>6</td>\n",
       "      <td>2016</td>\n",
       "      <td>Atlanta Hawks</td>\n",
       "      <td>28.2</td>\n",
       "      <td>82.0</td>\n",
       "      <td>48</td>\n",
       "      <td>34.0</td>\n",
       "      <td>0.585</td>\n",
       "      <td>5.294</td>\n",
       "      <td>2</td>\n",
       "      <td>0.598</td>\n",
       "      <td>13.983</td>\n",
       "      <td>3.069</td>\n",
       "      <td>0.732</td>\n",
       "    </tr>\n",
       "    <tr>\n",
       "      <th>4</th>\n",
       "      <td>18</td>\n",
       "      <td>2017</td>\n",
       "      <td>Atlanta Hawks</td>\n",
       "      <td>27.9</td>\n",
       "      <td>82.0</td>\n",
       "      <td>43</td>\n",
       "      <td>39.0</td>\n",
       "      <td>0.524</td>\n",
       "      <td>5.900</td>\n",
       "      <td>3</td>\n",
       "      <td>0.593</td>\n",
       "      <td>13.690</td>\n",
       "      <td>3.053</td>\n",
       "      <td>0.585</td>\n",
       "    </tr>\n",
       "  </tbody>\n",
       "</table>\n",
       "</div>"
      ],
      "text/plain": [
       "   Unnamed: 0  Year           Team   Age    GP   W     L   W/L%  Avg Exp  \\\n",
       "0          12  2013  Atlanta Hawks  27.1  82.0  44  38.0  0.537    5.333   \n",
       "1          16  2014  Atlanta Hawks  27.5  82.0  38  44.0  0.463    3.778   \n",
       "2           3  2015  Atlanta Hawks  27.8  82.0  60  22.0  0.732    4.750   \n",
       "3           6  2016  Atlanta Hawks  28.2  82.0  48  34.0  0.585    5.294   \n",
       "4          18  2017  Atlanta Hawks  27.9  82.0  43  39.0  0.524    5.900   \n",
       "\n",
       "   Coach Exp  Coach W/L%  Avg PER  Avg WS  Last Year W/L%  \n",
       "0          2       0.572   13.123   2.564           0.606  \n",
       "1          0       0.000   13.897   2.870           0.537  \n",
       "2          1       0.463   13.019   2.656           0.463  \n",
       "3          2       0.598   13.983   3.069           0.732  \n",
       "4          3       0.593   13.690   3.053           0.585  "
      ]
     },
     "execution_count": 2,
     "metadata": {},
     "output_type": "execute_result"
    }
   ],
   "source": [
    "df.head()"
   ]
  },
  {
   "cell_type": "code",
   "execution_count": 3,
   "id": "7593e7ee-00da-451d-ae20-50d0eff00010",
   "metadata": {},
   "outputs": [],
   "source": [
    "#Only predicting wins for seasons where 82 games were played\n",
    "df = df[df['GP'] == 82]"
   ]
  },
  {
   "cell_type": "code",
   "execution_count": 4,
   "id": "5d1f02ee-3291-43fa-8729-1d1ef6688692",
   "metadata": {},
   "outputs": [],
   "source": [
    "#Scatter plots for observing relationship between each feature and Wins feature"
   ]
  },
  {
   "cell_type": "code",
   "execution_count": 5,
   "id": "5c916a94-4f28-44b7-a09f-43bbaab513d3",
   "metadata": {},
   "outputs": [
    {
     "data": {
      "text/plain": [
       "<AxesSubplot:xlabel='Age', ylabel='W'>"
      ]
     },
     "execution_count": 5,
     "metadata": {},
     "output_type": "execute_result"
    },
    {
     "data": {
      "image/png": "[encoded data removed]",
      "text/plain": [
       "<Figure size 432x288 with 1 Axes>"
      ]
     },
     "metadata": {
      "needs_background": "light"
     },
     "output_type": "display_data"
    }
   ],
   "source": [
    "df.plot.scatter(x=\"Age\", y=\"W\")"
   ]
  },
  {
   "cell_type": "code",
   "execution_count": 6,
   "id": "980bee22-33ca-440a-ba36-8b744a0f881e",
   "metadata": {},
   "outputs": [
    {
     "data": {
      "text/plain": [
       "<AxesSubplot:xlabel='Avg Exp', ylabel='W'>"
      ]
     },
     "execution_count": 6,
     "metadata": {},
     "output_type": "execute_result"
    },
    {
     "data": {
      "image/png": "[encoded data removed]",
      "text/plain": [
       "<Figure size 432x288 with 1 Axes>"
      ]
     },
     "metadata": {
      "needs_background": "light"
     },
     "output_type": "display_data"
    }
   ],
   "source": [
    "df.plot.scatter(x=\"Avg Exp\", y=\"W\")"
   ]
  },
  {
   "cell_type": "code",
   "execution_count": 7,
   "id": "b7b2f739-532f-48d8-806d-aa2852dc90da",
   "metadata": {},
   "outputs": [
    {
     "data": {
      "text/plain": [
       "<AxesSubplot:xlabel='Coach Exp', ylabel='W'>"
      ]
     },
     "execution_count": 7,
     "metadata": {},
     "output_type": "execute_result"
    },
    {
     "data": {
      "image/png": "[encoded data removed]",
      "text/plain": [
       "<Figure size 432x288 with 1 Axes>"
      ]
     },
     "metadata": {
      "needs_background": "light"
     },
     "output_type": "display_data"
    }
   ],
   "source": [
    "df.plot.scatter(x=\"Coach Exp\", y=\"W\")"
   ]
  },
  {
   "cell_type": "code",
   "execution_count": 8,
   "id": "0d008635-8e2b-46ca-8756-9518576b79c5",
   "metadata": {},
   "outputs": [
    {
     "data": {
      "text/plain": [
       "<AxesSubplot:xlabel='Coach W/L%', ylabel='W'>"
      ]
     },
     "execution_count": 8,
     "metadata": {},
     "output_type": "execute_result"
    },
    {
     "data": {
      "image/png": "[encoded data removed]",
      "text/plain": [
       "<Figure size 432x288 with 1 Axes>"
      ]
     },
     "metadata": {
      "needs_background": "light"
     },
     "output_type": "display_data"
    }
   ],
   "source": [
    "df.plot.scatter(x=\"Coach W/L%\", y=\"W\")"
   ]
  },
  {
   "cell_type": "code",
   "execution_count": 9,
   "id": "04f62d92-8ab8-4eaf-9d23-72c4fd442321",
   "metadata": {},
   "outputs": [
    {
     "data": {
      "text/plain": [
       "<AxesSubplot:xlabel='Avg PER', ylabel='W'>"
      ]
     },
     "execution_count": 9,
     "metadata": {},
     "output_type": "execute_result"
    },
    {
     "data": {
      "image/png": "[encoded data removed]",
      "text/plain": [
       "<Figure size 432x288 with 1 Axes>"
      ]
     },
     "metadata": {
      "needs_background": "light"
     },
     "output_type": "display_data"
    }
   ],
   "source": [
    "df.plot.scatter(x=\"Avg PER\", y=\"W\")"
   ]
  },
  {
   "cell_type": "code",
   "execution_count": 10,
   "id": "452231b1-79a0-40be-bd45-26813ac6d923",
   "metadata": {},
   "outputs": [
    {
     "data": {
      "text/plain": [
       "<AxesSubplot:xlabel='Avg WS', ylabel='W'>"
      ]
     },
     "execution_count": 10,
     "metadata": {},
     "output_type": "execute_result"
    },
    {
     "data": {
      "image/png": "[encoded data removed]",
      "text/plain": [
       "<Figure size 432x288 with 1 Axes>"
      ]
     },
     "metadata": {
      "needs_background": "light"
     },
     "output_type": "display_data"
    }
   ],
   "source": [
    "df.plot.scatter(x=\"Avg WS\", y=\"W\")"
   ]
  },
  {
   "cell_type": "code",
   "execution_count": 11,
   "id": "03c1bdb7-88b2-4f3c-9895-f2a4ea6c5451",
   "metadata": {},
   "outputs": [
    {
     "data": {
      "text/plain": [
       "<AxesSubplot:xlabel='Last Year W/L%', ylabel='W'>"
      ]
     },
     "execution_count": 11,
     "metadata": {},
     "output_type": "execute_result"
    },
    {
     "data": {
      "image/png": "[encoded data removed]",
      "text/plain": [
       "<Figure size 432x288 with 1 Axes>"
      ]
     },
     "metadata": {
      "needs_background": "light"
     },
     "output_type": "display_data"
    }
   ],
   "source": [
    "df.plot.scatter(x=\"Last Year W/L%\", y=\"W\")"
   ]
  },
  {
   "cell_type": "code",
   "execution_count": 12,
   "id": "9cf17ff6-2982-46a0-9204-ecafcfbf29ce",
   "metadata": {},
   "outputs": [
    {
     "name": "stdout",
     "output_type": "stream",
     "text": [
      "Unnamed: 0       -0.953796\n",
      "Year              0.004260\n",
      "Age               0.531270\n",
      "GP                     NaN\n",
      "W                 1.000000\n",
      "L                -1.000000\n",
      "W/L%              0.999998\n",
      "Avg Exp           0.466568\n",
      "Coach Exp         0.134995\n",
      "Coach W/L%        0.337951\n",
      "Avg PER           0.407446\n",
      "Avg WS            0.588295\n",
      "Last Year W/L%    0.642330\n",
      "Name: W, dtype: float64\n"
     ]
    }
   ],
   "source": [
    "#Observe the correlation between each feature and Wins feature\n",
    "correlation = df.corr()[\"W\"]\n",
    "print(correlation)"
   ]
  },
  {
   "cell_type": "code",
   "execution_count": 13,
   "id": "3b20e3c2-21df-4d43-9d90-f57fcb2bcabc",
   "metadata": {},
   "outputs": [],
   "source": [
    "#Viewing distribution of each feature to determine if any are not normally distributed"
   ]
  },
  {
   "cell_type": "code",
   "execution_count": 14,
   "id": "1ee1b3da-e0c7-4c54-9d6a-c07e9058368a",
   "metadata": {},
   "outputs": [
    {
     "data": {
      "text/plain": [
       "array([[<AxesSubplot:title={'center':'W'}>]], dtype=object)"
      ]
     },
     "execution_count": 14,
     "metadata": {},
     "output_type": "execute_result"
    },
    {
     "data": {
      "image/png": "[encoded data removed]",
      "text/plain": [
       "<Figure size 432x288 with 1 Axes>"
      ]
     },
     "metadata": {
      "needs_background": "light"
     },
     "output_type": "display_data"
    }
   ],
   "source": [
    "df.hist(column='W')"
   ]
  },
  {
   "cell_type": "code",
   "execution_count": 15,
   "id": "53bcc131-98a1-4fe4-b9c8-d482c1845482",
   "metadata": {},
   "outputs": [
    {
     "data": {
      "text/plain": [
       "array([[<AxesSubplot:title={'center':'Age'}>]], dtype=object)"
      ]
     },
     "execution_count": 15,
     "metadata": {},
     "output_type": "execute_result"
    },
    {
     "data": {
      "image/png": "[encoded data removed]",
      "text/plain": [
       "<Figure size 432x288 with 1 Axes>"
      ]
     },
     "metadata": {
      "needs_background": "light"
     },
     "output_type": "display_data"
    }
   ],
   "source": [
    "df.hist(column='Age')"
   ]
  },
  {
   "cell_type": "code",
   "execution_count": 16,
   "id": "60fdc1cc-5aef-4a24-911d-9762c8a63330",
   "metadata": {
    "tags": []
   },
   "outputs": [
    {
     "data": {
      "text/plain": [
       "array([[<AxesSubplot:title={'center':'Avg Exp'}>]], dtype=object)"
      ]
     },
     "execution_count": 16,
     "metadata": {},
     "output_type": "execute_result"
    },
    {
     "data": {
      "image/png": "[encoded data removed]",
      "text/plain": [
       "<Figure size 432x288 with 1 Axes>"
      ]
     },
     "metadata": {
      "needs_background": "light"
     },
     "output_type": "display_data"
    }
   ],
   "source": [
    "df.hist(column='Avg Exp')"
   ]
  },
  {
   "cell_type": "code",
   "execution_count": 17,
   "id": "b2886f58-219e-4d7c-b2e3-81ce44288725",
   "metadata": {},
   "outputs": [
    {
     "data": {
      "text/plain": [
       "array([[<AxesSubplot:title={'center':'Coach Exp'}>]], dtype=object)"
      ]
     },
     "execution_count": 17,
     "metadata": {},
     "output_type": "execute_result"
    },
    {
     "data": {
      "image/png": "[encoded data removed]",
      "text/plain": [
       "<Figure size 432x288 with 1 Axes>"
      ]
     },
     "metadata": {
      "needs_background": "light"
     },
     "output_type": "display_data"
    }
   ],
   "source": [
    "df.hist(column='Coach Exp')"
   ]
  },
  {
   "cell_type": "code",
   "execution_count": 18,
   "id": "602b0588-693e-4cef-8feb-7176d176c625",
   "metadata": {},
   "outputs": [
    {
     "data": {
      "text/plain": [
       "array([[<AxesSubplot:title={'center':'Coach W/L%'}>]], dtype=object)"
      ]
     },
     "execution_count": 18,
     "metadata": {},
     "output_type": "execute_result"
    },
    {
     "data": {
      "image/png": "[encoded data removed]",
      "text/plain": [
       "<Figure size 432x288 with 1 Axes>"
      ]
     },
     "metadata": {
      "needs_background": "light"
     },
     "output_type": "display_data"
    }
   ],
   "source": [
    "df.hist(column='Coach W/L%')"
   ]
  },
  {
   "cell_type": "code",
   "execution_count": 19,
   "id": "72f56136-55cf-428c-9573-03a35777d241",
   "metadata": {},
   "outputs": [
    {
     "data": {
      "text/plain": [
       "array([[<AxesSubplot:title={'center':'Avg PER'}>]], dtype=object)"
      ]
     },
     "execution_count": 19,
     "metadata": {},
     "output_type": "execute_result"
    },
    {
     "data": {
      "image/png": "[encoded data removed]",
      "text/plain": [
       "<Figure size 432x288 with 1 Axes>"
      ]
     },
     "metadata": {
      "needs_background": "light"
     },
     "output_type": "display_data"
    }
   ],
   "source": [
    "df.hist(column='Avg PER')"
   ]
  },
  {
   "cell_type": "code",
   "execution_count": 20,
   "id": "365fc109-cc74-4131-93b3-888f1de2e13e",
   "metadata": {},
   "outputs": [
    {
     "data": {
      "text/plain": [
       "array([[<AxesSubplot:title={'center':'Avg WS'}>]], dtype=object)"
      ]
     },
     "execution_count": 20,
     "metadata": {},
     "output_type": "execute_result"
    },
    {
     "data": {
      "image/png": "[encoded data removed]",
      "text/plain": [
       "<Figure size 432x288 with 1 Axes>"
      ]
     },
     "metadata": {
      "needs_background": "light"
     },
     "output_type": "display_data"
    }
   ],
   "source": [
    "df.hist(column='Avg WS')"
   ]
  },
  {
   "cell_type": "code",
   "execution_count": 21,
   "id": "2fad8510-e6fe-41f0-a3ce-ac4baf2a8e19",
   "metadata": {},
   "outputs": [
    {
     "data": {
      "text/plain": [
       "array([[<AxesSubplot:title={'center':'Last Year W/L%'}>]], dtype=object)"
      ]
     },
     "execution_count": 21,
     "metadata": {},
     "output_type": "execute_result"
    },
    {
     "data": {
      "image/png": "[encoded data removed]",
      "text/plain": [
       "<Figure size 432x288 with 1 Axes>"
      ]
     },
     "metadata": {
      "needs_background": "light"
     },
     "output_type": "display_data"
    }
   ],
   "source": [
    "df.hist(column='Last Year W/L%')"
   ]
  },
  {
   "cell_type": "code",
   "execution_count": 22,
   "id": "1ff3cb9d-0e4e-482f-9b6e-7a9824e224de",
   "metadata": {},
   "outputs": [],
   "source": [
    "#Linear Regression Model"
   ]
  },
  {
   "cell_type": "code",
   "execution_count": 23,
   "id": "f7dfd580-b9a3-4b72-b370-71820cb2dd43",
   "metadata": {},
   "outputs": [],
   "source": [
    "#Splitting data into training and testing\n",
    "train, test = train_test_split(df, test_size=0.2, random_state=1)"
   ]
  },
  {
   "cell_type": "code",
   "execution_count": 24,
   "id": "779ac4b9-3e80-4524-a7f5-e061e601b4ef",
   "metadata": {},
   "outputs": [
    {
     "data": {
      "text/plain": [
       "LinearRegression()"
      ]
     },
     "execution_count": 24,
     "metadata": {},
     "output_type": "execute_result"
    }
   ],
   "source": [
    "#Fitting the model\n",
    "model = LinearRegression()\n",
    "model.fit(\n",
    "    X=train[[\"Age\", \"Avg Exp\", \"Avg WS\", \"Avg PER\", \"Last Year W/L%\"]],\n",
    "    y=train[\"W\"]\n",
    ")"
   ]
  },
  {
   "cell_type": "code",
   "execution_count": 25,
   "id": "c429718f-9a53-42bb-b5b1-f05a0eb35aaf",
   "metadata": {},
   "outputs": [],
   "source": [
    "#Predicting wins on test data\n",
    "predicted = model.predict(\n",
    "    X=test[[\"Age\", \"Avg Exp\", \"Avg WS\", \"Avg PER\", \"Last Year W/L%\"]]\n",
    ")"
   ]
  },
  {
   "cell_type": "code",
   "execution_count": 26,
   "id": "3ea55c89-83a5-48c0-b582-4c923fd9ffb6",
   "metadata": {},
   "outputs": [],
   "source": [
    "expected = test[\"W\"]"
   ]
  },
  {
   "cell_type": "code",
   "execution_count": 27,
   "id": "51b3cbd5-fc8d-44b7-8c9c-7d330987a138",
   "metadata": {},
   "outputs": [
    {
     "name": "stdout",
     "output_type": "stream",
     "text": [
      "64.78596259591441\n",
      "8.048972766503462\n"
     ]
    }
   ],
   "source": [
    "#Determining MSE and RMSE for model predictions\n",
    "lr_mse = mean_squared_error(expected, predicted)\n",
    "print(lr_mse)\n",
    "lr_rmse = mean_squared_error(expected, predicted, squared = False)\n",
    "print(lr_rmse)"
   ]
  },
  {
   "cell_type": "code",
   "execution_count": 28,
   "id": "72295240-e4a1-481e-8ae6-cc0b7a1827b0",
   "metadata": {},
   "outputs": [],
   "source": [
    "#Observing 2022 season predicted standings for Linear Regression model"
   ]
  },
  {
   "cell_type": "code",
   "execution_count": 29,
   "id": "b06dcbef-c9cd-4802-922b-0539f1e7ce67",
   "metadata": {},
   "outputs": [],
   "source": [
    "df2 = df[df[\"Year\"] == 2022]"
   ]
  },
  {
   "cell_type": "code",
   "execution_count": 30,
   "id": "83097e52-f2cf-455d-ac6c-c68c7eeff8d9",
   "metadata": {},
   "outputs": [
    {
     "name": "stderr",
     "output_type": "stream",
     "text": [
      "/var/folders/mh/bzcftdl55cj6hrvx6vqfym1m0000gq/T/ipykernel_70699/3672978941.py:1: SettingWithCopyWarning: \n",
      "A value is trying to be set on a copy of a slice from a DataFrame.\n",
      "Try using .loc[row_indexer,col_indexer] = value instead\n",
      "\n",
      "See the caveats in the documentation: https://pandas.pydata.org/pandas-docs/stable/user_guide/indexing.html#returning-a-view-versus-a-copy\n",
      "  df2[\"Predicted W\"] = (model.predict(\n"
     ]
    }
   ],
   "source": [
    "df2[\"Predicted W\"] = (model.predict(\n",
    "    X=df2[[\"Age\", \"Avg Exp\", \"Avg WS\", \"Avg PER\", \"Last Year W/L%\"]]\n",
    "))"
   ]
  },
  {
   "cell_type": "code",
   "execution_count": 31,
   "id": "87779e93-1fa1-4c01-a841-3ac392376ede",
   "metadata": {},
   "outputs": [],
   "source": [
    "df2 = df2.sort_values(by=['Predicted W'], ascending = False)"
   ]
  },
  {
   "cell_type": "code",
   "execution_count": 32,
   "id": "0c8e3474-8ea4-4329-be79-c0faf8bbd450",
   "metadata": {},
   "outputs": [
    {
     "name": "stdout",
     "output_type": "stream",
     "text": [
      "                       Team   W  Predicted W\n",
      "29            Brooklyn Nets  44    54.273754\n",
      "229      Philadelphia 76ers  51    52.171868\n",
      "289               Utah Jazz  49    50.645783\n",
      "239            Phoenix Suns  64    49.626230\n",
      "139      Los Angeles Lakers  33    49.365713\n",
      "169         Milwaukee Bucks  51    48.499308\n",
      "79           Denver Nuggets  48    46.173934\n",
      "129    Los Angeles Clippers  42    45.809307\n",
      "99    Golden State Warriors  53    43.939823\n",
      "9             Atlanta Hawks  43    42.575786\n",
      "159              Miami Heat  53    42.514572\n",
      "69         Dallas Mavericks  52    42.038582\n",
      "199         New York Knicks  37    41.212905\n",
      "249  Portland Trail Blazers  27    39.260847\n",
      "299      Washington Wizards  35    39.081233\n",
      "39        Charlotte Bobcats  43    38.942565\n",
      "119          Indiana Pacers  25    38.486909\n",
      "149       Memphis Grizzlies  56    37.910411\n",
      "19           Boston Celtics  51    37.650015\n",
      "49            Chicago Bulls  46    36.238936\n",
      "259        Sacramento Kings  30    34.805319\n",
      "189    New Orleans Pelicans  36    34.287056\n",
      "269       San Antonio Spurs  34    33.336506\n",
      "279         Toronto Raptors  48    30.875382\n",
      "179  Minnesota Timberwolves  46    30.313610\n",
      "59      Cleveland Cavaliers  44    28.134074\n",
      "109         Houston Rockets  20    26.971336\n",
      "89          Detroit Pistons  23    25.115447\n",
      "219           Orlando Magic  22    23.854237\n",
      "209   Oklahoma City Thunder  24    22.431416\n"
     ]
    }
   ],
   "source": [
    "print(df2[[\"Team\", \"W\", \"Predicted W\"]])"
   ]
  },
  {
   "cell_type": "code",
   "execution_count": 33,
   "id": "ac6269cc-dfda-4fed-a590-39afcde22bf2",
   "metadata": {},
   "outputs": [],
   "source": [
    "#KNN Regression Model"
   ]
  },
  {
   "cell_type": "code",
   "execution_count": 34,
   "id": "be69f551-b58b-4b17-83d2-6d0cb821cedc",
   "metadata": {},
   "outputs": [
    {
     "data": {
      "text/plain": [
       "KNeighborsRegressor(n_neighbors=2)"
      ]
     },
     "execution_count": 34,
     "metadata": {},
     "output_type": "execute_result"
    }
   ],
   "source": [
    "#Initializing model\n",
    "x_data = df[[\"Avg WS\", \"Last Year W/L%\"]]\n",
    "y_data = df[\"W\"]\n",
    "X_train, X_test, y_train, y_test = train_test_split(x_data, y_data,test_size=0.2, random_state = 1)\n",
    "knn_model = KNeighborsRegressor(n_neighbors=2)\n",
    "knn_model.fit(X_train, y_train)"
   ]
  },
  {
   "cell_type": "code",
   "execution_count": 35,
   "id": "e81f0aef-7c39-4ec1-a788-8439b6416454",
   "metadata": {},
   "outputs": [
    {
     "name": "stdout",
     "output_type": "stream",
     "text": [
      "40.992105263157896\n",
      "6.402507732377829\n"
     ]
    }
   ],
   "source": [
    "#Determining MSE and RMSE for model predictions\n",
    "train_preds = knn_model.predict(X_train)\n",
    "mse = mean_squared_error(y_train, train_preds)\n",
    "print(mse)\n",
    "rmse = mean_squared_error(y_train, train_preds,squared = False)\n",
    "print(rmse)"
   ]
  },
  {
   "cell_type": "code",
   "execution_count": 36,
   "id": "98fffba0-18d7-4b72-9b12-fc992bdec233",
   "metadata": {},
   "outputs": [],
   "source": [
    "#Observing 2022 season predicted standings for KNN Regression model"
   ]
  },
  {
   "cell_type": "code",
   "execution_count": 37,
   "id": "9575c97a-81bb-4238-91a8-9b1d729e8d80",
   "metadata": {},
   "outputs": [
    {
     "name": "stderr",
     "output_type": "stream",
     "text": [
      "/var/folders/mh/bzcftdl55cj6hrvx6vqfym1m0000gq/T/ipykernel_70699/1363367065.py:2: SettingWithCopyWarning: \n",
      "A value is trying to be set on a copy of a slice from a DataFrame.\n",
      "Try using .loc[row_indexer,col_indexer] = value instead\n",
      "\n",
      "See the caveats in the documentation: https://pandas.pydata.org/pandas-docs/stable/user_guide/indexing.html#returning-a-view-versus-a-copy\n",
      "  df3[\"Predicted W\"] = (knn_model.predict(df3[[\"Avg WS\", \"Last Year W/L%\"]]\n"
     ]
    }
   ],
   "source": [
    "df3 = df[df[\"Year\"] == 2022]\n",
    "df3[\"Predicted W\"] = (knn_model.predict(df3[[\"Avg WS\", \"Last Year W/L%\"]]\n",
    "))\n",
    "df3 = df3.sort_values(by=['Predicted W'], ascending = False)"
   ]
  },
  {
   "cell_type": "code",
   "execution_count": 38,
   "id": "b7b5932f-6466-40a1-96a7-5c5e0a4fcc05",
   "metadata": {},
   "outputs": [
    {
     "name": "stdout",
     "output_type": "stream",
     "text": [
      "                       Team   W  Predicted W\n",
      "239            Phoenix Suns  64         64.5\n",
      "99    Golden State Warriors  53         55.0\n",
      "169         Milwaukee Bucks  51         53.0\n",
      "39        Charlotte Bobcats  43         51.5\n",
      "29            Brooklyn Nets  44         48.5\n",
      "79           Denver Nuggets  48         48.5\n",
      "229      Philadelphia 76ers  51         48.0\n",
      "129    Los Angeles Clippers  42         46.5\n",
      "279         Toronto Raptors  48         46.0\n",
      "289               Utah Jazz  49         45.5\n",
      "199         New York Knicks  37         45.0\n",
      "69         Dallas Mavericks  52         44.5\n",
      "179  Minnesota Timberwolves  46         44.0\n",
      "159              Miami Heat  53         43.0\n",
      "299      Washington Wizards  35         38.5\n",
      "49            Chicago Bulls  46         37.5\n",
      "149       Memphis Grizzlies  56         36.0\n",
      "249  Portland Trail Blazers  27         36.0\n",
      "89          Detroit Pistons  23         35.5\n",
      "269       San Antonio Spurs  34         35.5\n",
      "9             Atlanta Hawks  43         35.0\n",
      "139      Los Angeles Lakers  33         34.5\n",
      "19           Boston Celtics  51         33.5\n",
      "59      Cleveland Cavaliers  44         33.5\n",
      "189    New Orleans Pelicans  36         33.0\n",
      "219           Orlando Magic  22         33.0\n",
      "259        Sacramento Kings  30         33.0\n",
      "119          Indiana Pacers  25         28.0\n",
      "209   Oklahoma City Thunder  24         21.5\n",
      "109         Houston Rockets  20         19.5\n"
     ]
    }
   ],
   "source": [
    "print(df3[[\"Team\", \"W\", \"Predicted W\"]])"
   ]
  },
  {
   "cell_type": "code",
   "execution_count": null,
   "id": "f04fdfc4-1723-4202-8aac-cdcb61393838",
   "metadata": {},
   "outputs": [],
   "source": []
  }
 ],
 "metadata": {
  "kernelspec": {
   "display_name": "Python 3 (ipykernel)",
   "language": "python",
   "name": "python3"
  },
  "language_info": {
   "codemirror_mode": {
    "name": "ipython",
    "version": 3
   },
   "file_extension": ".py",
   "mimetype": "text/x-python",
   "name": "python",
   "nbconvert_exporter": "python",
   "pygments_lexer": "ipython3",
   "version": "3.9.7"
  }
 },
 "nbformat": 4,
 "nbformat_minor": 5
}
